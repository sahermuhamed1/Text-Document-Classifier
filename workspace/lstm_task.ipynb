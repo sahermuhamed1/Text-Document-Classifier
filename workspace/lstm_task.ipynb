{
 "cells": [
  {
   "cell_type": "code",
   "execution_count": 24,
   "metadata": {
    "_cell_guid": "b1076dfc-b9ad-4769-8c92-a6c4dae69d19",
    "_uuid": "8f2839f25d086af736a60e9eeb907d3b93b6e0e5",
    "execution": {
     "iopub.execute_input": "2024-12-04T00:30:35.628585Z",
     "iopub.status.busy": "2024-12-04T00:30:35.628323Z",
     "iopub.status.idle": "2024-12-04T00:30:38.663621Z",
     "shell.execute_reply": "2024-12-04T00:30:38.662718Z",
     "shell.execute_reply.started": "2024-12-04T00:30:35.628557Z"
    },
    "trusted": true
   },
   "outputs": [],
   "source": [
    "import numpy as np\n",
    "import pandas as pd\n",
    "import matplotlib.pyplot as plt\n",
    "import seaborn as sns\n",
    "from tqdm import tqdm\n",
    "import re\n",
    "import nltk\n",
    "from nltk.corpus import stopwords\n",
    "from sklearn.model_selection import train_test_split\n",
    "from sklearn.feature_extraction.text import CountVectorizer\n",
    "from sklearn.feature_extraction.text import TfidfVectorizer\n",
    "from sklearn.ensemble import RandomForestClassifier\n",
    "from sklearn.pipeline import Pipeline\n",
    "from sklearn.metrics import classification_report\n",
    "from sklearn.metrics import accuracy_score\n",
    "from sklearn.metrics import confusion_matrix, ConfusionMatrixDisplay"
   ]
  },
  {
   "cell_type": "markdown",
   "metadata": {},
   "source": [
    "<div style=\"text-align:center; background-color:#dc3545; padding:20px;\">\n",
    "  <h1 style=\"font-size:36px; color:#ffeeba;\"><b>1.EDA (Explotary Data Analysis)</b></h1>\n",
    "</div>\n"
   ]
  },
  {
   "cell_type": "code",
   "execution_count": 25,
   "metadata": {
    "execution": {
     "iopub.execute_input": "2024-12-04T00:30:38.665596Z",
     "iopub.status.busy": "2024-12-04T00:30:38.665198Z",
     "iopub.status.idle": "2024-12-04T00:30:38.782788Z",
     "shell.execute_reply": "2024-12-04T00:30:38.781854Z",
     "shell.execute_reply.started": "2024-12-04T00:30:38.665567Z"
    },
    "trusted": true
   },
   "outputs": [],
   "source": [
    "df = pd.read_csv(r'F:\\Data Science Projects\\Text Document Classification\\data\\df_file.csv')"
   ]
  },
  {
   "cell_type": "code",
   "execution_count": 26,
   "metadata": {
    "execution": {
     "iopub.execute_input": "2024-12-04T00:30:38.784577Z",
     "iopub.status.busy": "2024-12-04T00:30:38.784141Z",
     "iopub.status.idle": "2024-12-04T00:30:38.809042Z",
     "shell.execute_reply": "2024-12-04T00:30:38.808255Z",
     "shell.execute_reply.started": "2024-12-04T00:30:38.784537Z"
    },
    "trusted": true
   },
   "outputs": [
    {
     "name": "stdout",
     "output_type": "stream",
     "text": [
      "<class 'pandas.core.frame.DataFrame'>\n",
      "RangeIndex: 2225 entries, 0 to 2224\n",
      "Data columns (total 2 columns):\n",
      " #   Column  Non-Null Count  Dtype \n",
      "---  ------  --------------  ----- \n",
      " 0   Text    2225 non-null   object\n",
      " 1   Label   2225 non-null   int64 \n",
      "dtypes: int64(1), object(1)\n",
      "memory usage: 34.9+ KB\n"
     ]
    }
   ],
   "source": [
    "df.info()"
   ]
  },
  {
   "cell_type": "code",
   "execution_count": 27,
   "metadata": {
    "execution": {
     "iopub.execute_input": "2024-12-04T00:30:38.810971Z",
     "iopub.status.busy": "2024-12-04T00:30:38.810657Z",
     "iopub.status.idle": "2024-12-04T00:30:38.822769Z",
     "shell.execute_reply": "2024-12-04T00:30:38.821858Z",
     "shell.execute_reply.started": "2024-12-04T00:30:38.810943Z"
    },
    "trusted": true
   },
   "outputs": [
    {
     "data": {
      "text/html": [
       "<div>\n",
       "<style scoped>\n",
       "    .dataframe tbody tr th:only-of-type {\n",
       "        vertical-align: middle;\n",
       "    }\n",
       "\n",
       "    .dataframe tbody tr th {\n",
       "        vertical-align: top;\n",
       "    }\n",
       "\n",
       "    .dataframe thead th {\n",
       "        text-align: right;\n",
       "    }\n",
       "</style>\n",
       "<table border=\"1\" class=\"dataframe\">\n",
       "  <thead>\n",
       "    <tr style=\"text-align: right;\">\n",
       "      <th></th>\n",
       "      <th>Text</th>\n",
       "      <th>Label</th>\n",
       "    </tr>\n",
       "  </thead>\n",
       "  <tbody>\n",
       "    <tr>\n",
       "      <th>2205</th>\n",
       "      <td>Barclays profits hit record level\\n \\n Barclay...</td>\n",
       "      <td>4</td>\n",
       "    </tr>\n",
       "    <tr>\n",
       "      <th>2206</th>\n",
       "      <td>Asian banks halt dollar's slide\\n \\n The dolla...</td>\n",
       "      <td>4</td>\n",
       "    </tr>\n",
       "    <tr>\n",
       "      <th>2207</th>\n",
       "      <td>Venezuela and China sign oil deal\\n \\n Venezue...</td>\n",
       "      <td>4</td>\n",
       "    </tr>\n",
       "    <tr>\n",
       "      <th>2208</th>\n",
       "      <td>UK homes hit Â£3.3 trillion total\\n \\n The val...</td>\n",
       "      <td>4</td>\n",
       "    </tr>\n",
       "    <tr>\n",
       "      <th>2209</th>\n",
       "      <td>China's Shanda buys stake in Sina\\n \\n Chinese...</td>\n",
       "      <td>4</td>\n",
       "    </tr>\n",
       "    <tr>\n",
       "      <th>2210</th>\n",
       "      <td>EU 'too slow' on economic reforms\\n \\n Most EU...</td>\n",
       "      <td>4</td>\n",
       "    </tr>\n",
       "    <tr>\n",
       "      <th>2211</th>\n",
       "      <td>Economy 'strong' in election year\\n \\n UK busi...</td>\n",
       "      <td>4</td>\n",
       "    </tr>\n",
       "    <tr>\n",
       "      <th>2212</th>\n",
       "      <td>Saab to build Cadillacs in Sweden\\n \\n General...</td>\n",
       "      <td>4</td>\n",
       "    </tr>\n",
       "    <tr>\n",
       "      <th>2213</th>\n",
       "      <td>Bad weather hits Nestle sales\\n \\n A combinati...</td>\n",
       "      <td>4</td>\n",
       "    </tr>\n",
       "    <tr>\n",
       "      <th>2214</th>\n",
       "      <td>US Ahold suppliers face charges\\n \\n US prosec...</td>\n",
       "      <td>4</td>\n",
       "    </tr>\n",
       "    <tr>\n",
       "      <th>2215</th>\n",
       "      <td>Banker loses sexism claim\\n \\n A former execut...</td>\n",
       "      <td>4</td>\n",
       "    </tr>\n",
       "    <tr>\n",
       "      <th>2216</th>\n",
       "      <td>EC calls truce in deficit battle\\n \\n The Euro...</td>\n",
       "      <td>4</td>\n",
       "    </tr>\n",
       "    <tr>\n",
       "      <th>2217</th>\n",
       "      <td>Japanese growth grinds to a halt\\n \\n Growth i...</td>\n",
       "      <td>4</td>\n",
       "    </tr>\n",
       "    <tr>\n",
       "      <th>2218</th>\n",
       "      <td>Tate &amp; Lyle boss bags top award\\n \\n Tate &amp; Ly...</td>\n",
       "      <td>4</td>\n",
       "    </tr>\n",
       "    <tr>\n",
       "      <th>2219</th>\n",
       "      <td>Stock market eyes Japan recovery\\n \\n Japanese...</td>\n",
       "      <td>4</td>\n",
       "    </tr>\n",
       "    <tr>\n",
       "      <th>2220</th>\n",
       "      <td>India opens skies to competition\\n \\n India wi...</td>\n",
       "      <td>4</td>\n",
       "    </tr>\n",
       "    <tr>\n",
       "      <th>2221</th>\n",
       "      <td>Yukos bankruptcy 'not US matter'\\n \\n Russian ...</td>\n",
       "      <td>4</td>\n",
       "    </tr>\n",
       "    <tr>\n",
       "      <th>2222</th>\n",
       "      <td>Survey confirms property slowdown\\n \\n Governm...</td>\n",
       "      <td>4</td>\n",
       "    </tr>\n",
       "    <tr>\n",
       "      <th>2223</th>\n",
       "      <td>High fuel prices hit BA's profits\\n \\n British...</td>\n",
       "      <td>4</td>\n",
       "    </tr>\n",
       "    <tr>\n",
       "      <th>2224</th>\n",
       "      <td>US trade gap hits record in 2004\\n \\n The gap ...</td>\n",
       "      <td>4</td>\n",
       "    </tr>\n",
       "  </tbody>\n",
       "</table>\n",
       "</div>"
      ],
      "text/plain": [
       "                                                   Text  Label\n",
       "2205  Barclays profits hit record level\\n \\n Barclay...      4\n",
       "2206  Asian banks halt dollar's slide\\n \\n The dolla...      4\n",
       "2207  Venezuela and China sign oil deal\\n \\n Venezue...      4\n",
       "2208  UK homes hit Â£3.3 trillion total\\n \\n The val...      4\n",
       "2209  China's Shanda buys stake in Sina\\n \\n Chinese...      4\n",
       "2210  EU 'too slow' on economic reforms\\n \\n Most EU...      4\n",
       "2211  Economy 'strong' in election year\\n \\n UK busi...      4\n",
       "2212  Saab to build Cadillacs in Sweden\\n \\n General...      4\n",
       "2213  Bad weather hits Nestle sales\\n \\n A combinati...      4\n",
       "2214  US Ahold suppliers face charges\\n \\n US prosec...      4\n",
       "2215  Banker loses sexism claim\\n \\n A former execut...      4\n",
       "2216  EC calls truce in deficit battle\\n \\n The Euro...      4\n",
       "2217  Japanese growth grinds to a halt\\n \\n Growth i...      4\n",
       "2218  Tate & Lyle boss bags top award\\n \\n Tate & Ly...      4\n",
       "2219  Stock market eyes Japan recovery\\n \\n Japanese...      4\n",
       "2220  India opens skies to competition\\n \\n India wi...      4\n",
       "2221  Yukos bankruptcy 'not US matter'\\n \\n Russian ...      4\n",
       "2222  Survey confirms property slowdown\\n \\n Governm...      4\n",
       "2223  High fuel prices hit BA's profits\\n \\n British...      4\n",
       "2224  US trade gap hits record in 2004\\n \\n The gap ...      4"
      ]
     },
     "execution_count": 27,
     "metadata": {},
     "output_type": "execute_result"
    }
   ],
   "source": [
    "df.tail(20)"
   ]
  },
  {
   "cell_type": "code",
   "execution_count": 28,
   "metadata": {
    "execution": {
     "iopub.execute_input": "2024-12-04T00:30:38.823843Z",
     "iopub.status.busy": "2024-12-04T00:30:38.823611Z",
     "iopub.status.idle": "2024-12-04T00:30:38.830133Z",
     "shell.execute_reply": "2024-12-04T00:30:38.829149Z",
     "shell.execute_reply.started": "2024-12-04T00:30:38.823819Z"
    },
    "trusted": true
   },
   "outputs": [
    {
     "data": {
      "text/plain": [
       "array([0, 1, 2, 3, 4])"
      ]
     },
     "execution_count": 28,
     "metadata": {},
     "output_type": "execute_result"
    }
   ],
   "source": [
    "df['Label'].unique()"
   ]
  },
  {
   "cell_type": "code",
   "execution_count": 29,
   "metadata": {
    "execution": {
     "iopub.execute_input": "2024-12-04T00:30:38.831352Z",
     "iopub.status.busy": "2024-12-04T00:30:38.831071Z",
     "iopub.status.idle": "2024-12-04T00:30:38.840656Z",
     "shell.execute_reply": "2024-12-04T00:30:38.839864Z",
     "shell.execute_reply.started": "2024-12-04T00:30:38.831323Z"
    },
    "trusted": true
   },
   "outputs": [
    {
     "data": {
      "text/plain": [
       "Label\n",
       "1    511\n",
       "4    510\n",
       "0    417\n",
       "2    401\n",
       "3    386\n",
       "Name: count, dtype: int64"
      ]
     },
     "execution_count": 29,
     "metadata": {},
     "output_type": "execute_result"
    }
   ],
   "source": [
    "df['Label'].value_counts()"
   ]
  },
  {
   "cell_type": "code",
   "execution_count": 30,
   "metadata": {
    "execution": {
     "iopub.execute_input": "2024-12-04T00:30:38.841988Z",
     "iopub.status.busy": "2024-12-04T00:30:38.841687Z",
     "iopub.status.idle": "2024-12-04T00:30:39.154422Z",
     "shell.execute_reply": "2024-12-04T00:30:39.153564Z",
     "shell.execute_reply.started": "2024-12-04T00:30:38.841963Z"
    },
    "trusted": true
   },
   "outputs": [
    {
     "name": "stderr",
     "output_type": "stream",
     "text": [
      "C:\\Users\\LENOVO  LS\\AppData\\Local\\Temp\\ipykernel_13972\\2784532637.py:1: FutureWarning: \n",
      "\n",
      "Passing `palette` without assigning `hue` is deprecated and will be removed in v0.14.0. Assign the `x` variable to `hue` and set `legend=False` for the same effect.\n",
      "\n",
      "  sns.countplot(data=df, x='Label', palette='BuPu')\n"
     ]
    },
    {
     "data": {
      "image/png": "[encoded data removed]",
      "text/plain": [
       "<Figure size 640x480 with 1 Axes>"
      ]
     },
     "metadata": {},
     "output_type": "display_data"
    }
   ],
   "source": [
    "sns.countplot(data=df, x='Label', palette='BuPu')\n",
    "plt.xlabel('Label')\n",
    "plt.ylabel('Count')\n",
    "plt.title('Distribution of Labels')\n",
    "plt.show()"
   ]
  },
  {
   "cell_type": "code",
   "execution_count": 31,
   "metadata": {
    "execution": {
     "iopub.execute_input": "2024-12-04T00:30:39.155761Z",
     "iopub.status.busy": "2024-12-04T00:30:39.155501Z",
     "iopub.status.idle": "2024-12-04T00:30:39.159932Z",
     "shell.execute_reply": "2024-12-04T00:30:39.159080Z",
     "shell.execute_reply.started": "2024-12-04T00:30:39.155734Z"
    },
    "trusted": true
   },
   "outputs": [],
   "source": [
    "text = df['Text']\n",
    "label = df['Label']"
   ]
  },
  {
   "cell_type": "markdown",
   "metadata": {},
   "source": [
    "<div style=\"text-align:center; background-color:#dc3545; padding:20px;\">\n",
    "  <h1 style=\"font-size:36px; color:#ffeeba;\"><b>2.Text Preprocessing</b></h1>\n",
    "</div>\n"
   ]
  },
  {
   "cell_type": "code",
   "execution_count": 32,
   "metadata": {
    "execution": {
     "iopub.execute_input": "2024-12-04T00:30:39.161449Z",
     "iopub.status.busy": "2024-12-04T00:30:39.161103Z",
     "iopub.status.idle": "2024-12-04T00:30:39.168604Z",
     "shell.execute_reply": "2024-12-04T00:30:39.167755Z",
     "shell.execute_reply.started": "2024-12-04T00:30:39.161412Z"
    },
    "trusted": true
   },
   "outputs": [],
   "source": [
    "import re\n",
    "def clean(text):\n",
    "    text = re.sub(r\"[^a-zA-Z0-9\\s]\", \"\", text)\n",
    "    text = text.lower()\n",
    "    text = re.sub(r\"\\s+\", \" \", text).strip()\n",
    "    return text"
   ]
  },
  {
   "cell_type": "code",
   "execution_count": 33,
   "metadata": {
    "execution": {
     "iopub.execute_input": "2024-12-04T00:30:39.171651Z",
     "iopub.status.busy": "2024-12-04T00:30:39.171382Z",
     "iopub.status.idle": "2024-12-04T00:30:39.515659Z",
     "shell.execute_reply": "2024-12-04T00:30:39.514979Z",
     "shell.execute_reply.started": "2024-12-04T00:30:39.171625Z"
    },
    "trusted": true
   },
   "outputs": [],
   "source": [
    "df['cleaned_text'] = df['Text'].apply(clean)"
   ]
  },
  {
   "cell_type": "code",
   "execution_count": 34,
   "metadata": {
    "execution": {
     "iopub.execute_input": "2024-12-04T00:30:39.516673Z",
     "iopub.status.busy": "2024-12-04T00:30:39.516454Z",
     "iopub.status.idle": "2024-12-04T00:30:39.523958Z",
     "shell.execute_reply": "2024-12-04T00:30:39.523091Z",
     "shell.execute_reply.started": "2024-12-04T00:30:39.516650Z"
    },
    "trusted": true
   },
   "outputs": [
    {
     "data": {
      "text/plain": [
       "0       budget to set scene for election gordon brown ...\n",
       "1       army chiefs in regiments decision military chi...\n",
       "2       howard denies split over id cards michael howa...\n",
       "3       observers to monitor uk election ministers wil...\n",
       "4       kilroy names election seat target exchat show ...\n",
       "                              ...                        \n",
       "2220    india opens skies to competition india will al...\n",
       "2221    yukos bankruptcy not us matter russian authori...\n",
       "2222    survey confirms property slowdown government f...\n",
       "2223    high fuel prices hit bas profits british airwa...\n",
       "2224    us trade gap hits record in 2004 the gap betwe...\n",
       "Name: cleaned_text, Length: 2225, dtype: object"
      ]
     },
     "execution_count": 34,
     "metadata": {},
     "output_type": "execute_result"
    }
   ],
   "source": [
    "df['cleaned_text']"
   ]
  },
  {
   "cell_type": "markdown",
   "metadata": {},
   "source": [
    "# Removing Stopwords"
   ]
  },
  {
   "cell_type": "code",
   "execution_count": 35,
   "metadata": {
    "execution": {
     "iopub.execute_input": "2024-12-04T00:30:39.525438Z",
     "iopub.status.busy": "2024-12-04T00:30:39.525114Z",
     "iopub.status.idle": "2024-12-04T00:30:39.610862Z",
     "shell.execute_reply": "2024-12-04T00:30:39.610093Z",
     "shell.execute_reply.started": "2024-12-04T00:30:39.525408Z"
    },
    "trusted": true
   },
   "outputs": [
    {
     "name": "stderr",
     "output_type": "stream",
     "text": [
      "[nltk_data] Downloading package stopwords to C:\\Users\\LENOVO\n",
      "[nltk_data]     LS\\AppData\\Roaming\\nltk_data...\n",
      "[nltk_data]   Package stopwords is already up-to-date!\n"
     ]
    }
   ],
   "source": [
    "nltk.download('stopwords')\n",
    "stop_words = stopwords.words('english')\n",
    "\n",
    "def remove_stopwrods(text):\n",
    "    filtered = ' '.join(word for word in text.split() if word not in stop_words)\n",
    "    return filtered"
   ]
  },
  {
   "cell_type": "code",
   "execution_count": 36,
   "metadata": {
    "execution": {
     "iopub.execute_input": "2024-12-04T00:30:39.612432Z",
     "iopub.status.busy": "2024-12-04T00:30:39.612084Z",
     "iopub.status.idle": "2024-12-04T00:30:41.065719Z",
     "shell.execute_reply": "2024-12-04T00:30:41.065015Z",
     "shell.execute_reply.started": "2024-12-04T00:30:39.612395Z"
    },
    "trusted": true
   },
   "outputs": [],
   "source": [
    "df['cleaned_text'] = df['cleaned_text'].apply(remove_stopwrods)"
   ]
  },
  {
   "cell_type": "markdown",
   "metadata": {},
   "source": [
    "# Tokenization, Lemmatizationm, Stemming"
   ]
  },
  {
   "cell_type": "code",
   "execution_count": 37,
   "metadata": {
    "execution": {
     "iopub.execute_input": "2024-12-04T00:30:41.066944Z",
     "iopub.status.busy": "2024-12-04T00:30:41.066678Z",
     "iopub.status.idle": "2024-12-04T00:30:41.471203Z",
     "shell.execute_reply": "2024-12-04T00:30:41.470360Z",
     "shell.execute_reply.started": "2024-12-04T00:30:41.066917Z"
    },
    "trusted": true
   },
   "outputs": [
    {
     "name": "stderr",
     "output_type": "stream",
     "text": [
      "[nltk_data] Downloading package punkt to C:\\Users\\LENOVO\n",
      "[nltk_data]     LS\\AppData\\Roaming\\nltk_data...\n",
      "[nltk_data]   Package punkt is already up-to-date!\n",
      "[nltk_data] Downloading package wordnet to C:\\Users\\LENOVO\n",
      "[nltk_data]     LS\\AppData\\Roaming\\nltk_data...\n",
      "[nltk_data]   Package wordnet is already up-to-date!\n",
      "[nltk_data] Downloading package punkt_tab to C:\\Users\\LENOVO\n",
      "[nltk_data]     LS\\AppData\\Roaming\\nltk_data...\n",
      "[nltk_data]   Package punkt_tab is already up-to-date!\n"
     ]
    }
   ],
   "source": [
    "from nltk.tokenize import word_tokenize\n",
    "from nltk.stem import WordNetLemmatizer\n",
    "from nltk.stem import PorterStemmer\n",
    "\n",
    "\n",
    "# Download necessary NLTK data\n",
    "nltk.download('punkt')\n",
    "nltk.download('wordnet')\n",
    "import nltk\n",
    "nltk.download('punkt_tab')\n",
    "# Initialize lemmatizer and stemmer\n",
    "def tokenize(text): # tokenize text into words\n",
    "    ans = word_tokenize(text)\n",
    "    return ans\n",
    "\n",
    "def stemmer(text): # apply stemming on text\n",
    "    stemmer_instance = PorterStemmer()\n",
    "    ans = [stemmer_instance.stem(word) for word in text]\n",
    "    return ans\n",
    "\n",
    "def lemmatizer(text): # apply lemmatization on text\n",
    "    ans = [WordNetLemmatizer().lemmatize(word) for word in text]\n",
    "    return ans"
   ]
  },
  {
   "cell_type": "code",
   "execution_count": 38,
   "metadata": {
    "execution": {
     "iopub.execute_input": "2024-12-04T00:30:41.472687Z",
     "iopub.status.busy": "2024-12-04T00:30:41.472327Z",
     "iopub.status.idle": "2024-12-04T00:30:43.519454Z",
     "shell.execute_reply": "2024-12-04T00:30:43.518537Z",
     "shell.execute_reply.started": "2024-12-04T00:30:41.472647Z"
    },
    "trusted": true
   },
   "outputs": [],
   "source": [
    "df['tockenized'] = df['cleaned_text'].apply(lambda x: tokenize(x))"
   ]
  },
  {
   "cell_type": "code",
   "execution_count": 39,
   "metadata": {
    "execution": {
     "iopub.execute_input": "2024-12-04T00:30:43.520936Z",
     "iopub.status.busy": "2024-12-04T00:30:43.520652Z",
     "iopub.status.idle": "2024-12-04T00:30:44.704471Z",
     "shell.execute_reply": "2024-12-04T00:30:44.703596Z",
     "shell.execute_reply.started": "2024-12-04T00:30:43.520908Z"
    },
    "trusted": true
   },
   "outputs": [
    {
     "name": "stderr",
     "output_type": "stream",
     "text": [
      "[nltk_data] Downloading package wordnet to\n",
      "[nltk_data]     /kaggle/working/nltk_data...\n",
      "[nltk_data]   Package wordnet is already up-to-date!\n",
      "[nltk_data] Downloading package omw-1.4 to\n",
      "[nltk_data]     /kaggle/working/nltk_data...\n",
      "[nltk_data]   Package omw-1.4 is already up-to-date!\n"
     ]
    },
    {
     "name": "stdout",
     "output_type": "stream",
     "text": [
      "Extraction complete.\n"
     ]
    }
   ],
   "source": [
    "# Thsi is for solving the problem of lemmatization in kaggle\n",
    "import zipfile\n",
    "import os\n",
    "\n",
    "# Define a path for NLTK data\n",
    "nltk.data.path.append('/kaggle/working/nltk_data')\n",
    "\n",
    "# Download WordNet and its dependencies\n",
    "nltk.download('wordnet', download_dir='/kaggle/working/nltk_data')\n",
    "nltk.download('omw-1.4', download_dir='/kaggle/working/nltk_data')\n",
    "\n",
    "\n",
    "# Define the path to corpora\n",
    "corpora_path = '/kaggle/working/nltk_data/corpora'\n",
    "\n",
    "# Extract wordnet.zip\n",
    "with zipfile.ZipFile(os.path.join(corpora_path, 'wordnet.zip'), 'r') as zip_ref:\n",
    "    zip_ref.extractall(corpora_path)\n",
    "\n",
    "# Extract omw-1.4.zip\n",
    "with zipfile.ZipFile(os.path.join(corpora_path, 'omw-1.4.zip'), 'r') as zip_ref:\n",
    "    zip_ref.extractall(corpora_path)\n",
    "\n",
    "print(\"Extraction complete.\")"
   ]
  },
  {
   "cell_type": "code",
   "execution_count": 40,
   "metadata": {
    "execution": {
     "iopub.execute_input": "2024-12-04T00:30:44.705884Z",
     "iopub.status.busy": "2024-12-04T00:30:44.705588Z",
     "iopub.status.idle": "2024-12-04T00:30:47.573123Z",
     "shell.execute_reply": "2024-12-04T00:30:47.572450Z",
     "shell.execute_reply.started": "2024-12-04T00:30:44.705856Z"
    },
    "trusted": true
   },
   "outputs": [],
   "source": [
    "df['tockenized'] = df['tockenized'].apply(lambda x: lemmatizer(x))"
   ]
  },
  {
   "cell_type": "code",
   "execution_count": 41,
   "metadata": {
    "execution": {
     "iopub.execute_input": "2024-12-04T00:30:47.574566Z",
     "iopub.status.busy": "2024-12-04T00:30:47.574223Z",
     "iopub.status.idle": "2024-12-04T00:30:55.934104Z",
     "shell.execute_reply": "2024-12-04T00:30:55.933121Z",
     "shell.execute_reply.started": "2024-12-04T00:30:47.574534Z"
    },
    "trusted": true
   },
   "outputs": [],
   "source": [
    "df['tockenized'] = df['tockenized'].apply(lambda x: stemmer(x))"
   ]
  },
  {
   "cell_type": "code",
   "execution_count": 42,
   "metadata": {
    "execution": {
     "iopub.execute_input": "2024-12-04T00:30:55.935548Z",
     "iopub.status.busy": "2024-12-04T00:30:55.935240Z",
     "iopub.status.idle": "2024-12-04T00:31:06.576234Z",
     "shell.execute_reply": "2024-12-04T00:31:06.575235Z",
     "shell.execute_reply.started": "2024-12-04T00:30:55.935519Z"
    },
    "trusted": true
   },
   "outputs": [],
   "source": [
    "from tensorflow import keras\n",
    "tokenizer = keras.preprocessing.text.Tokenizer()\n",
    "tokenizer.fit_on_texts(df['tockenized'])\n",
    "df['sequence'] = tokenizer.texts_to_sequences(df['tockenized'])"
   ]
  },
  {
   "cell_type": "code",
   "execution_count": 43,
   "metadata": {
    "execution": {
     "iopub.execute_input": "2024-12-04T00:31:06.578068Z",
     "iopub.status.busy": "2024-12-04T00:31:06.577522Z",
     "iopub.status.idle": "2024-12-04T00:31:06.595646Z",
     "shell.execute_reply": "2024-12-04T00:31:06.594703Z",
     "shell.execute_reply.started": "2024-12-04T00:31:06.578036Z"
    },
    "trusted": true
   },
   "outputs": [
    {
     "data": {
      "text/html": [
       "<div>\n",
       "<style scoped>\n",
       "    .dataframe tbody tr th:only-of-type {\n",
       "        vertical-align: middle;\n",
       "    }\n",
       "\n",
       "    .dataframe tbody tr th {\n",
       "        vertical-align: top;\n",
       "    }\n",
       "\n",
       "    .dataframe thead th {\n",
       "        text-align: right;\n",
       "    }\n",
       "</style>\n",
       "<table border=\"1\" class=\"dataframe\">\n",
       "  <thead>\n",
       "    <tr style=\"text-align: right;\">\n",
       "      <th></th>\n",
       "      <th>Text</th>\n",
       "      <th>Label</th>\n",
       "      <th>cleaned_text</th>\n",
       "      <th>tockenized</th>\n",
       "      <th>sequence</th>\n",
       "    </tr>\n",
       "  </thead>\n",
       "  <tbody>\n",
       "    <tr>\n",
       "      <th>0</th>\n",
       "      <td>Budget to set scene for election\\n \\n Gordon B...</td>\n",
       "      <td>0</td>\n",
       "      <td>budget set scene election gordon brown seek pu...</td>\n",
       "      <td>[budget, set, scene, elect, gordon, brown, see...</td>\n",
       "      <td>[392, 51, 1319, 63, 754, 139, 709, 102, 138, 3...</td>\n",
       "    </tr>\n",
       "    <tr>\n",
       "      <th>1</th>\n",
       "      <td>Army chiefs in regiments decision\\n \\n Militar...</td>\n",
       "      <td>0</td>\n",
       "      <td>army chiefs regiments decision military chiefs...</td>\n",
       "      <td>[armi, chief, regiment, decis, militari, chief...</td>\n",
       "      <td>[2595, 148, 2728, 182, 1887, 148, 60, 155, 16,...</td>\n",
       "    </tr>\n",
       "    <tr>\n",
       "      <th>2</th>\n",
       "      <td>Howard denies split over ID cards\\n \\n Michael...</td>\n",
       "      <td>0</td>\n",
       "      <td>howard denies split id cards michael howard de...</td>\n",
       "      <td>[howard, deni, split, id, card, michael, howar...</td>\n",
       "      <td>[237, 453, 1798, 717, 355, 331, 237, 453, 1082...</td>\n",
       "    </tr>\n",
       "    <tr>\n",
       "      <th>3</th>\n",
       "      <td>Observers to monitor UK election\\n \\n Minister...</td>\n",
       "      <td>0</td>\n",
       "      <td>observers monitor uk election ministers invite...</td>\n",
       "      <td>[observ, monitor, uk, elect, minist, invit, in...</td>\n",
       "      <td>[1647, 1057, 29, 63, 64, 1975, 151, 1647, 1563...</td>\n",
       "    </tr>\n",
       "    <tr>\n",
       "      <th>4</th>\n",
       "      <td>Kilroy names election seat target\\n \\n Ex-chat...</td>\n",
       "      <td>0</td>\n",
       "      <td>kilroy names election seat target exchat show ...</td>\n",
       "      <td>[kilroy, name, elect, seat, target, exchat, sh...</td>\n",
       "      <td>[3655, 218, 63, 1098, 361, 9498, 30, 548, 755,...</td>\n",
       "    </tr>\n",
       "  </tbody>\n",
       "</table>\n",
       "</div>"
      ],
      "text/plain": [
       "                                                Text  Label  \\\n",
       "0  Budget to set scene for election\\n \\n Gordon B...      0   \n",
       "1  Army chiefs in regiments decision\\n \\n Militar...      0   \n",
       "2  Howard denies split over ID cards\\n \\n Michael...      0   \n",
       "3  Observers to monitor UK election\\n \\n Minister...      0   \n",
       "4  Kilroy names election seat target\\n \\n Ex-chat...      0   \n",
       "\n",
       "                                        cleaned_text  \\\n",
       "0  budget set scene election gordon brown seek pu...   \n",
       "1  army chiefs regiments decision military chiefs...   \n",
       "2  howard denies split id cards michael howard de...   \n",
       "3  observers monitor uk election ministers invite...   \n",
       "4  kilroy names election seat target exchat show ...   \n",
       "\n",
       "                                          tockenized  \\\n",
       "0  [budget, set, scene, elect, gordon, brown, see...   \n",
       "1  [armi, chief, regiment, decis, militari, chief...   \n",
       "2  [howard, deni, split, id, card, michael, howar...   \n",
       "3  [observ, monitor, uk, elect, minist, invit, in...   \n",
       "4  [kilroy, name, elect, seat, target, exchat, sh...   \n",
       "\n",
       "                                            sequence  \n",
       "0  [392, 51, 1319, 63, 754, 139, 709, 102, 138, 3...  \n",
       "1  [2595, 148, 2728, 182, 1887, 148, 60, 155, 16,...  \n",
       "2  [237, 453, 1798, 717, 355, 331, 237, 453, 1082...  \n",
       "3  [1647, 1057, 29, 63, 64, 1975, 151, 1647, 1563...  \n",
       "4  [3655, 218, 63, 1098, 361, 9498, 30, 548, 755,...  "
      ]
     },
     "execution_count": 43,
     "metadata": {},
     "output_type": "execute_result"
    }
   ],
   "source": [
    "df.head()"
   ]
  },
  {
   "cell_type": "code",
   "execution_count": 44,
   "metadata": {
    "execution": {
     "iopub.execute_input": "2024-12-04T00:31:06.597038Z",
     "iopub.status.busy": "2024-12-04T00:31:06.596734Z",
     "iopub.status.idle": "2024-12-04T00:31:06.606490Z",
     "shell.execute_reply": "2024-12-04T00:31:06.605631Z",
     "shell.execute_reply.started": "2024-12-04T00:31:06.597012Z"
    },
    "trusted": true
   },
   "outputs": [
    {
     "data": {
      "text/plain": [
       "2225"
      ]
     },
     "execution_count": 44,
     "metadata": {},
     "output_type": "execute_result"
    }
   ],
   "source": [
    "len(df['sequence'])"
   ]
  },
  {
   "cell_type": "code",
   "execution_count": 45,
   "metadata": {
    "execution": {
     "iopub.execute_input": "2024-12-04T00:31:06.607617Z",
     "iopub.status.busy": "2024-12-04T00:31:06.607367Z",
     "iopub.status.idle": "2024-12-04T00:31:06.618619Z",
     "shell.execute_reply": "2024-12-04T00:31:06.617788Z",
     "shell.execute_reply.started": "2024-12-04T00:31:06.607592Z"
    },
    "trusted": true
   },
   "outputs": [
    {
     "data": {
      "text/plain": [
       "0       0.141124\n",
       "1       0.122697\n",
       "2       0.142472\n",
       "3       0.135281\n",
       "4       0.117753\n",
       "          ...   \n",
       "2220    0.065169\n",
       "2221    0.104270\n",
       "2222    0.080000\n",
       "2223    0.119101\n",
       "2224    0.092135\n",
       "Name: sequence, Length: 2225, dtype: float64"
      ]
     },
     "execution_count": 45,
     "metadata": {},
     "output_type": "execute_result"
    }
   ],
   "source": [
    "(df['sequence'].apply(lambda x:len(x)))/len(df['sequence'])"
   ]
  },
  {
   "cell_type": "code",
   "execution_count": 46,
   "metadata": {
    "execution": {
     "iopub.execute_input": "2024-12-04T00:31:06.619962Z",
     "iopub.status.busy": "2024-12-04T00:31:06.619607Z",
     "iopub.status.idle": "2024-12-04T00:31:06.626365Z",
     "shell.execute_reply": "2024-12-04T00:31:06.625729Z",
     "shell.execute_reply.started": "2024-12-04T00:31:06.619919Z"
    },
    "trusted": true
   },
   "outputs": [],
   "source": [
    "input_shape=int(sum(df['sequence'].apply(lambda x:len(x)))/len(df['sequence']))"
   ]
  },
  {
   "cell_type": "code",
   "execution_count": 47,
   "metadata": {
    "execution": {
     "iopub.execute_input": "2024-12-04T00:31:06.627601Z",
     "iopub.status.busy": "2024-12-04T00:31:06.627324Z",
     "iopub.status.idle": "2024-12-04T00:31:06.636031Z",
     "shell.execute_reply": "2024-12-04T00:31:06.635343Z",
     "shell.execute_reply.started": "2024-12-04T00:31:06.627569Z"
    },
    "trusted": true
   },
   "outputs": [
    {
     "data": {
      "text/plain": [
       "222"
      ]
     },
     "execution_count": 47,
     "metadata": {},
     "output_type": "execute_result"
    }
   ],
   "source": [
    "input_shape"
   ]
  },
  {
   "cell_type": "code",
   "execution_count": 48,
   "metadata": {
    "execution": {
     "iopub.execute_input": "2024-12-04T00:31:06.637255Z",
     "iopub.status.busy": "2024-12-04T00:31:06.636979Z",
     "iopub.status.idle": "2024-12-04T00:31:06.646555Z",
     "shell.execute_reply": "2024-12-04T00:31:06.645495Z",
     "shell.execute_reply.started": "2024-12-04T00:31:06.637205Z"
    },
    "trusted": true
   },
   "outputs": [
    {
     "name": "stdout",
     "output_type": "stream",
     "text": [
      "Average length: 222.9429213483146\n",
      "Median length: 197.0\n",
      "95th percentile: 409.0\n",
      "Max length: 2242\n"
     ]
    }
   ],
   "source": [
    "from keras.preprocessing.sequence import pad_sequences\n",
    "\n",
    "lengths = [len(seq) for seq in df['sequence']]\n",
    "\n",
    "# Get some statistics\n",
    "print(f\"Average length: {np.mean(lengths)}\")\n",
    "print(f\"Median length: {np.median(lengths)}\")\n",
    "print(f\"95th percentile: {np.percentile(lengths, 95)}\")\n",
    "print(f\"Max length: {max(lengths)}\")"
   ]
  },
  {
   "cell_type": "code",
   "execution_count": 49,
   "metadata": {
    "execution": {
     "iopub.execute_input": "2024-12-04T00:31:06.648051Z",
     "iopub.status.busy": "2024-12-04T00:31:06.647713Z",
     "iopub.status.idle": "2024-12-04T00:31:06.941129Z",
     "shell.execute_reply": "2024-12-04T00:31:06.940305Z",
     "shell.execute_reply.started": "2024-12-04T00:31:06.648020Z"
    },
    "trusted": true
   },
   "outputs": [
    {
     "data": {
      "image/png": "[encoded data removed]",
      "text/plain": [
       "<Figure size 640x480 with 1 Axes>"
      ]
     },
     "metadata": {},
     "output_type": "display_data"
    }
   ],
   "source": [
    "import matplotlib.pyplot as plt\n",
    "plt.hist(lengths, bins=50)\n",
    "plt.title('Distribution of Sequence Lengths')\n",
    "plt.xlabel('Length')\n",
    "plt.ylabel('Frequency')\n",
    "plt.show()"
   ]
  },
  {
   "cell_type": "code",
   "execution_count": 50,
   "metadata": {
    "execution": {
     "iopub.execute_input": "2024-12-04T00:31:06.942636Z",
     "iopub.status.busy": "2024-12-04T00:31:06.942342Z",
     "iopub.status.idle": "2024-12-04T00:31:06.973060Z",
     "shell.execute_reply": "2024-12-04T00:31:06.972461Z",
     "shell.execute_reply.started": "2024-12-04T00:31:06.942607Z"
    },
    "trusted": true
   },
   "outputs": [],
   "source": [
    "# Sequence Padding\n",
    "from keras.preprocessing.sequence import pad_sequences\n",
    "X=pad_sequences(df['sequence'],maxlen=197)"
   ]
  },
  {
   "cell_type": "code",
   "execution_count": 51,
   "metadata": {
    "execution": {
     "iopub.execute_input": "2024-12-04T00:31:06.976685Z",
     "iopub.status.busy": "2024-12-04T00:31:06.976438Z",
     "iopub.status.idle": "2024-12-04T00:31:06.981250Z",
     "shell.execute_reply": "2024-12-04T00:31:06.980502Z",
     "shell.execute_reply.started": "2024-12-04T00:31:06.976660Z"
    },
    "trusted": true
   },
   "outputs": [],
   "source": [
    "from sklearn.preprocessing import LabelEncoder\n",
    "LB=LabelEncoder()\n",
    "y=LB.fit_transform(label)"
   ]
  },
  {
   "cell_type": "code",
   "execution_count": 52,
   "metadata": {
    "execution": {
     "iopub.execute_input": "2024-12-04T00:31:06.982600Z",
     "iopub.status.busy": "2024-12-04T00:31:06.982265Z",
     "iopub.status.idle": "2024-12-04T00:31:06.994235Z",
     "shell.execute_reply": "2024-12-04T00:31:06.993339Z",
     "shell.execute_reply.started": "2024-12-04T00:31:06.982571Z"
    },
    "trusted": true
   },
   "outputs": [
    {
     "name": "stdout",
     "output_type": "stream",
     "text": [
      "X_train : \n",
      " [[   0    0    0 ...  995   18   13]\n",
      " [   0    0    0 ...   97  366 5342]\n",
      " [   0    0    0 ... 1815   85 2023]\n",
      " ...\n",
      " [   0    0    0 ... 7440 1108   71]\n",
      " [   0    0    0 ...  604  681 2021]\n",
      " [   0    0    0 ... 5972  169 1577]]\n",
      "X_test  : \n",
      " [[    0     0     0 ...  1962   186   180]\n",
      " [    0     0     0 ...   316  1659  3164]\n",
      " [    0     0     0 ...  2168   753   573]\n",
      " ...\n",
      " [18830   246  2746 ...   338   964  4530]\n",
      " [ 1410   854    50 ...    21   443    24]\n",
      " [    0     0     0 ...   882     3   114]]\n"
     ]
    }
   ],
   "source": [
    "from sklearn.model_selection import train_test_split\n",
    "X_train, X_test, y_train, y_test = train_test_split(X, y, test_size=0.20, \n",
    "                                                    random_state=100)\n",
    "print(\"X_train : \\n\",X_train)\n",
    "print(\"X_test  : \\n\",X_test)"
   ]
  },
  {
   "cell_type": "code",
   "execution_count": 53,
   "metadata": {
    "execution": {
     "iopub.execute_input": "2024-12-04T00:31:06.995834Z",
     "iopub.status.busy": "2024-12-04T00:31:06.995590Z",
     "iopub.status.idle": "2024-12-04T00:31:07.000693Z",
     "shell.execute_reply": "2024-12-04T00:31:06.999761Z",
     "shell.execute_reply.started": "2024-12-04T00:31:06.995810Z"
    },
    "trusted": true
   },
   "outputs": [
    {
     "name": "stdout",
     "output_type": "stream",
     "text": [
      "X_train shape :  (1780, 197)\n",
      "X_test  shape :  (445, 197)\n"
     ]
    }
   ],
   "source": [
    "print(\"X_train shape : \",X_train.shape)\n",
    "print(\"X_test  shape : \",X_test.shape)"
   ]
  },
  {
   "cell_type": "code",
   "execution_count": 54,
   "metadata": {
    "execution": {
     "iopub.execute_input": "2024-12-04T00:31:07.002713Z",
     "iopub.status.busy": "2024-12-04T00:31:07.002005Z",
     "iopub.status.idle": "2024-12-04T00:31:07.035094Z",
     "shell.execute_reply": "2024-12-04T00:31:07.034471Z",
     "shell.execute_reply.started": "2024-12-04T00:31:07.002670Z"
    },
    "trusted": true
   },
   "outputs": [],
   "source": [
    "Max_words=(max(map(max, X)))+1"
   ]
  },
  {
   "cell_type": "code",
   "execution_count": 55,
   "metadata": {
    "execution": {
     "iopub.execute_input": "2024-12-04T00:31:07.036941Z",
     "iopub.status.busy": "2024-12-04T00:31:07.036115Z",
     "iopub.status.idle": "2024-12-04T00:31:07.044807Z",
     "shell.execute_reply": "2024-12-04T00:31:07.044057Z",
     "shell.execute_reply.started": "2024-12-04T00:31:07.036913Z"
    },
    "trusted": true
   },
   "outputs": [
    {
     "data": {
      "text/plain": [
       "np.int32(24110)"
      ]
     },
     "execution_count": 55,
     "metadata": {},
     "output_type": "execute_result"
    }
   ],
   "source": [
    "Max_words"
   ]
  },
  {
   "cell_type": "code",
   "execution_count": 56,
   "metadata": {
    "execution": {
     "iopub.execute_input": "2024-12-04T00:31:07.046025Z",
     "iopub.status.busy": "2024-12-04T00:31:07.045773Z",
     "iopub.status.idle": "2024-12-04T00:31:07.912956Z",
     "shell.execute_reply": "2024-12-04T00:31:07.912208Z",
     "shell.execute_reply.started": "2024-12-04T00:31:07.046001Z"
    },
    "trusted": true
   },
   "outputs": [
    {
     "name": "stderr",
     "output_type": "stream",
     "text": [
      "C:\\Users\\LENOVO  LS\\AppData\\Local\\Packages\\PythonSoftwareFoundation.Python.3.11_qbz5n2kfra8p0\\LocalCache\\local-packages\\Python311\\site-packages\\keras\\src\\layers\\core\\embedding.py:90: UserWarning: Argument `input_length` is deprecated. Just remove it.\n",
      "  warnings.warn(\n"
     ]
    }
   ],
   "source": [
    "from tensorflow.keras.models import Sequential\n",
    "from tensorflow.keras.layers import Embedding, LSTM, Dense, Dropout\n",
    "from tensorflow.keras.optimizers import Adam\n",
    "\n",
    "model = Sequential([\n",
    "    \n",
    "    Embedding(Max_words + 1, 100, input_length=input_shape),\n",
    "    \n",
    "    LSTM(256, return_sequences=True),\n",
    "    Dropout(0.3),\n",
    "    \n",
    "    LSTM(128),\n",
    "    Dropout(0.3),\n",
    "    \n",
    "    Dense(32, activation='selu'),\n",
    "    Dropout(0.2),\n",
    "    \n",
    "    Dense(5, activation='softmax')\n",
    "])"
   ]
  },
  {
   "cell_type": "code",
   "execution_count": 57,
   "metadata": {
    "execution": {
     "iopub.execute_input": "2024-12-04T00:31:07.914637Z",
     "iopub.status.busy": "2024-12-04T00:31:07.914007Z",
     "iopub.status.idle": "2024-12-04T00:31:07.932890Z",
     "shell.execute_reply": "2024-12-04T00:31:07.932309Z",
     "shell.execute_reply.started": "2024-12-04T00:31:07.914591Z"
    },
    "trusted": true
   },
   "outputs": [],
   "source": [
    "model.compile(\n",
    "    optimizer=Adam(learning_rate=0.001),\n",
    "    loss='sparse_categorical_crossentropy',\n",
    "    metrics=['accuracy']\n",
    ")"
   ]
  },
  {
   "cell_type": "code",
   "execution_count": 58,
   "metadata": {
    "execution": {
     "iopub.execute_input": "2024-12-04T00:31:07.934248Z",
     "iopub.status.busy": "2024-12-04T00:31:07.933899Z",
     "iopub.status.idle": "2024-12-04T00:31:07.941116Z",
     "shell.execute_reply": "2024-12-04T00:31:07.940344Z",
     "shell.execute_reply.started": "2024-12-04T00:31:07.934211Z"
    },
    "trusted": true
   },
   "outputs": [],
   "source": [
    "from tensorflow.keras.callbacks import EarlyStopping, ReduceLROnPlateau, ModelCheckpoint\n",
    "\n",
    "checkpoint_path = \"model_checkpoints/checkpoint.weights.h5\"\n",
    "callbacks = [\n",
    "    ReduceLROnPlateau(monitor='val_loss', factor=0.1, patience=5),\n",
    "    ModelCheckpoint(\n",
    "        filepath=checkpoint_path,\n",
    "        save_weights_only=True,\n",
    "        save_best_only=True,\n",
    "        monitor='val_accuracy',\n",
    "        verbose=1\n",
    "    )\n",
    "\n",
    "]"
   ]
  },
  {
   "cell_type": "code",
   "execution_count": 59,
   "metadata": {
    "execution": {
     "iopub.execute_input": "2024-12-04T00:31:07.942459Z",
     "iopub.status.busy": "2024-12-04T00:31:07.942181Z",
     "iopub.status.idle": "2024-12-04T00:31:50.391111Z",
     "shell.execute_reply": "2024-12-04T00:31:50.390427Z",
     "shell.execute_reply.started": "2024-12-04T00:31:07.942434Z"
    },
    "trusted": true
   },
   "outputs": [
    {
     "name": "stdout",
     "output_type": "stream",
     "text": [
      "Epoch 1/25\n",
      "\u001b[1m72/72\u001b[0m \u001b[32m━━━━━━━━━━━━━━━━━━━━\u001b[0m\u001b[37m\u001b[0m \u001b[1m0s\u001b[0m 205ms/step - accuracy: 0.3314 - loss: 1.5122\n",
      "Epoch 1: val_accuracy improved from -inf to 0.64045, saving model to model_checkpoints/checkpoint.weights.h5\n",
      "\u001b[1m72/72\u001b[0m \u001b[32m━━━━━━━━━━━━━━━━━━━━\u001b[0m\u001b[37m\u001b[0m \u001b[1m20s\u001b[0m 232ms/step - accuracy: 0.3333 - loss: 1.5089 - val_accuracy: 0.6404 - val_loss: 0.8177 - learning_rate: 0.0010\n",
      "Epoch 2/25\n",
      "\u001b[1m72/72\u001b[0m \u001b[32m━━━━━━━━━━━━━━━━━━━━\u001b[0m\u001b[37m\u001b[0m \u001b[1m0s\u001b[0m 202ms/step - accuracy: 0.7366 - loss: 0.6249\n",
      "Epoch 2: val_accuracy improved from 0.64045 to 0.88764, saving model to model_checkpoints/checkpoint.weights.h5\n",
      "\u001b[1m72/72\u001b[0m \u001b[32m━━━━━━━━━━━━━━━━━━━━\u001b[0m\u001b[37m\u001b[0m \u001b[1m16s\u001b[0m 224ms/step - accuracy: 0.7376 - loss: 0.6232 - val_accuracy: 0.8876 - val_loss: 0.3357 - learning_rate: 0.0010\n",
      "Epoch 3/25\n",
      "\u001b[1m72/72\u001b[0m \u001b[32m━━━━━━━━━━━━━━━━━━━━\u001b[0m\u001b[37m\u001b[0m \u001b[1m0s\u001b[0m 224ms/step - accuracy: 0.9300 - loss: 0.2019\n",
      "Epoch 3: val_accuracy improved from 0.88764 to 0.91573, saving model to model_checkpoints/checkpoint.weights.h5\n",
      "\u001b[1m72/72\u001b[0m \u001b[32m━━━━━━━━━━━━━━━━━━━━\u001b[0m\u001b[37m\u001b[0m \u001b[1m18s\u001b[0m 249ms/step - accuracy: 0.9302 - loss: 0.2013 - val_accuracy: 0.9157 - val_loss: 0.3497 - learning_rate: 0.0010\n",
      "Epoch 4/25\n",
      "\u001b[1m72/72\u001b[0m \u001b[32m━━━━━━━━━━━━━━━━━━━━\u001b[0m\u001b[37m\u001b[0m \u001b[1m0s\u001b[0m 251ms/step - accuracy: 0.9900 - loss: 0.0514\n",
      "Epoch 4: val_accuracy improved from 0.91573 to 0.94101, saving model to model_checkpoints/checkpoint.weights.h5\n",
      "\u001b[1m72/72\u001b[0m \u001b[32m━━━━━━━━━━━━━━━━━━━━\u001b[0m\u001b[37m\u001b[0m \u001b[1m20s\u001b[0m 272ms/step - accuracy: 0.9900 - loss: 0.0513 - val_accuracy: 0.9410 - val_loss: 0.2442 - learning_rate: 0.0010\n",
      "Epoch 5/25\n",
      "\u001b[1m72/72\u001b[0m \u001b[32m━━━━━━━━━━━━━━━━━━━━\u001b[0m\u001b[37m\u001b[0m \u001b[1m0s\u001b[0m 193ms/step - accuracy: 0.9948 - loss: 0.0291\n",
      "Epoch 5: val_accuracy did not improve from 0.94101\n",
      "\u001b[1m72/72\u001b[0m \u001b[32m━━━━━━━━━━━━━━━━━━━━\u001b[0m\u001b[37m\u001b[0m \u001b[1m15s\u001b[0m 211ms/step - accuracy: 0.9948 - loss: 0.0290 - val_accuracy: 0.9354 - val_loss: 0.2637 - learning_rate: 0.0010\n",
      "Epoch 6/25\n",
      "\u001b[1m72/72\u001b[0m \u001b[32m━━━━━━━━━━━━━━━━━━━━\u001b[0m\u001b[37m\u001b[0m \u001b[1m0s\u001b[0m 206ms/step - accuracy: 0.9967 - loss: 0.0099\n",
      "Epoch 6: val_accuracy improved from 0.94101 to 0.94663, saving model to model_checkpoints/checkpoint.weights.h5\n",
      "\u001b[1m72/72\u001b[0m \u001b[32m━━━━━━━━━━━━━━━━━━━━\u001b[0m\u001b[37m\u001b[0m \u001b[1m17s\u001b[0m 230ms/step - accuracy: 0.9968 - loss: 0.0099 - val_accuracy: 0.9466 - val_loss: 0.2289 - learning_rate: 0.0010\n",
      "Epoch 7/25\n",
      "\u001b[1m72/72\u001b[0m \u001b[32m━━━━━━━━━━━━━━━━━━━━\u001b[0m\u001b[37m\u001b[0m \u001b[1m0s\u001b[0m 214ms/step - accuracy: 0.9995 - loss: 0.0064\n",
      "Epoch 7: val_accuracy did not improve from 0.94663\n",
      "\u001b[1m72/72\u001b[0m \u001b[32m━━━━━━━━━━━━━━━━━━━━\u001b[0m\u001b[37m\u001b[0m \u001b[1m17s\u001b[0m 236ms/step - accuracy: 0.9995 - loss: 0.0065 - val_accuracy: 0.9410 - val_loss: 0.2746 - learning_rate: 0.0010\n",
      "Epoch 8/25\n",
      "\u001b[1m72/72\u001b[0m \u001b[32m━━━━━━━━━━━━━━━━━━━━\u001b[0m\u001b[37m\u001b[0m \u001b[1m0s\u001b[0m 215ms/step - accuracy: 0.9955 - loss: 0.0126\n",
      "Epoch 8: val_accuracy did not improve from 0.94663\n",
      "\u001b[1m72/72\u001b[0m \u001b[32m━━━━━━━━━━━━━━━━━━━━\u001b[0m\u001b[37m\u001b[0m \u001b[1m17s\u001b[0m 237ms/step - accuracy: 0.9955 - loss: 0.0127 - val_accuracy: 0.9017 - val_loss: 0.4085 - learning_rate: 0.0010\n",
      "Epoch 9/25\n",
      "\u001b[1m72/72\u001b[0m \u001b[32m━━━━━━━━━━━━━━━━━━━━\u001b[0m\u001b[37m\u001b[0m \u001b[1m0s\u001b[0m 217ms/step - accuracy: 0.9916 - loss: 0.0297\n",
      "Epoch 9: val_accuracy did not improve from 0.94663\n",
      "\u001b[1m72/72\u001b[0m \u001b[32m━━━━━━━━━━━━━━━━━━━━\u001b[0m\u001b[37m\u001b[0m \u001b[1m17s\u001b[0m 239ms/step - accuracy: 0.9917 - loss: 0.0296 - val_accuracy: 0.9410 - val_loss: 0.2159 - learning_rate: 0.0010\n",
      "Epoch 10/25\n",
      "\u001b[1m72/72\u001b[0m \u001b[32m━━━━━━━━━━━━━━━━━━━━\u001b[0m\u001b[37m\u001b[0m \u001b[1m0s\u001b[0m 212ms/step - accuracy: 0.9981 - loss: 0.0106\n",
      "Epoch 10: val_accuracy did not improve from 0.94663\n",
      "\u001b[1m72/72\u001b[0m \u001b[32m━━━━━━━━━━━━━━━━━━━━\u001b[0m\u001b[37m\u001b[0m \u001b[1m17s\u001b[0m 234ms/step - accuracy: 0.9981 - loss: 0.0106 - val_accuracy: 0.9242 - val_loss: 0.2963 - learning_rate: 0.0010\n",
      "Epoch 11/25\n",
      "\u001b[1m72/72\u001b[0m \u001b[32m━━━━━━━━━━━━━━━━━━━━\u001b[0m\u001b[37m\u001b[0m \u001b[1m0s\u001b[0m 219ms/step - accuracy: 0.9990 - loss: 0.0060\n",
      "Epoch 11: val_accuracy did not improve from 0.94663\n",
      "\u001b[1m72/72\u001b[0m \u001b[32m━━━━━━━━━━━━━━━━━━━━\u001b[0m\u001b[37m\u001b[0m \u001b[1m17s\u001b[0m 238ms/step - accuracy: 0.9990 - loss: 0.0060 - val_accuracy: 0.9213 - val_loss: 0.3117 - learning_rate: 0.0010\n",
      "Epoch 12/25\n",
      "\u001b[1m72/72\u001b[0m \u001b[32m━━━━━━━━━━━━━━━━━━━━\u001b[0m\u001b[37m\u001b[0m \u001b[1m0s\u001b[0m 218ms/step - accuracy: 1.0000 - loss: 0.0037\n",
      "Epoch 12: val_accuracy did not improve from 0.94663\n",
      "\u001b[1m72/72\u001b[0m \u001b[32m━━━━━━━━━━━━━━━━━━━━\u001b[0m\u001b[37m\u001b[0m \u001b[1m17s\u001b[0m 240ms/step - accuracy: 1.0000 - loss: 0.0037 - val_accuracy: 0.9270 - val_loss: 0.3189 - learning_rate: 0.0010\n",
      "Epoch 13/25\n",
      "\u001b[1m72/72\u001b[0m \u001b[32m━━━━━━━━━━━━━━━━━━━━\u001b[0m\u001b[37m\u001b[0m \u001b[1m0s\u001b[0m 210ms/step - accuracy: 1.0000 - loss: 7.3090e-04\n",
      "Epoch 13: val_accuracy did not improve from 0.94663\n",
      "\u001b[1m72/72\u001b[0m \u001b[32m━━━━━━━━━━━━━━━━━━━━\u001b[0m\u001b[37m\u001b[0m \u001b[1m17s\u001b[0m 232ms/step - accuracy: 1.0000 - loss: 7.3155e-04 - val_accuracy: 0.9298 - val_loss: 0.3122 - learning_rate: 0.0010\n",
      "Epoch 14/25\n",
      "\u001b[1m72/72\u001b[0m \u001b[32m━━━━━━━━━━━━━━━━━━━━\u001b[0m\u001b[37m\u001b[0m \u001b[1m0s\u001b[0m 212ms/step - accuracy: 1.0000 - loss: 5.0697e-04\n",
      "Epoch 14: val_accuracy did not improve from 0.94663\n",
      "\u001b[1m72/72\u001b[0m \u001b[32m━━━━━━━━━━━━━━━━━━━━\u001b[0m\u001b[37m\u001b[0m \u001b[1m17s\u001b[0m 234ms/step - accuracy: 1.0000 - loss: 5.0829e-04 - val_accuracy: 0.9270 - val_loss: 0.3099 - learning_rate: 0.0010\n",
      "Epoch 15/25\n",
      "\u001b[1m72/72\u001b[0m \u001b[32m━━━━━━━━━━━━━━━━━━━━\u001b[0m\u001b[37m\u001b[0m \u001b[1m0s\u001b[0m 209ms/step - accuracy: 1.0000 - loss: 5.3948e-04\n",
      "Epoch 15: val_accuracy did not improve from 0.94663\n",
      "\u001b[1m72/72\u001b[0m \u001b[32m━━━━━━━━━━━━━━━━━━━━\u001b[0m\u001b[37m\u001b[0m \u001b[1m17s\u001b[0m 231ms/step - accuracy: 1.0000 - loss: 5.3951e-04 - val_accuracy: 0.9270 - val_loss: 0.3101 - learning_rate: 1.0000e-04\n",
      "Epoch 16/25\n",
      "\u001b[1m72/72\u001b[0m \u001b[32m━━━━━━━━━━━━━━━━━━━━\u001b[0m\u001b[37m\u001b[0m \u001b[1m0s\u001b[0m 216ms/step - accuracy: 1.0000 - loss: 4.5966e-04\n",
      "Epoch 16: val_accuracy did not improve from 0.94663\n",
      "\u001b[1m72/72\u001b[0m \u001b[32m━━━━━━━━━━━━━━━━━━━━\u001b[0m\u001b[37m\u001b[0m \u001b[1m17s\u001b[0m 239ms/step - accuracy: 1.0000 - loss: 4.6016e-04 - val_accuracy: 0.9270 - val_loss: 0.3104 - learning_rate: 1.0000e-04\n",
      "Epoch 17/25\n",
      "\u001b[1m72/72\u001b[0m \u001b[32m━━━━━━━━━━━━━━━━━━━━\u001b[0m\u001b[37m\u001b[0m \u001b[1m0s\u001b[0m 207ms/step - accuracy: 1.0000 - loss: 7.7475e-04\n",
      "Epoch 17: val_accuracy did not improve from 0.94663\n",
      "\u001b[1m72/72\u001b[0m \u001b[32m━━━━━━━━━━━━━━━━━━━━\u001b[0m\u001b[37m\u001b[0m \u001b[1m17s\u001b[0m 229ms/step - accuracy: 1.0000 - loss: 7.7215e-04 - val_accuracy: 0.9270 - val_loss: 0.3103 - learning_rate: 1.0000e-04\n",
      "Epoch 18/25\n",
      "\u001b[1m72/72\u001b[0m \u001b[32m━━━━━━━━━━━━━━━━━━━━\u001b[0m\u001b[37m\u001b[0m \u001b[1m0s\u001b[0m 227ms/step - accuracy: 1.0000 - loss: 4.8286e-04\n",
      "Epoch 18: val_accuracy did not improve from 0.94663\n",
      "\u001b[1m72/72\u001b[0m \u001b[32m━━━━━━━━━━━━━━━━━━━━\u001b[0m\u001b[37m\u001b[0m \u001b[1m18s\u001b[0m 253ms/step - accuracy: 1.0000 - loss: 4.8249e-04 - val_accuracy: 0.9270 - val_loss: 0.3100 - learning_rate: 1.0000e-04\n",
      "Epoch 19/25\n",
      "\u001b[1m72/72\u001b[0m \u001b[32m━━━━━━━━━━━━━━━━━━━━\u001b[0m\u001b[37m\u001b[0m \u001b[1m0s\u001b[0m 217ms/step - accuracy: 1.0000 - loss: 4.9245e-04\n",
      "Epoch 19: val_accuracy did not improve from 0.94663\n",
      "\u001b[1m72/72\u001b[0m \u001b[32m━━━━━━━━━━━━━━━━━━━━\u001b[0m\u001b[37m\u001b[0m \u001b[1m17s\u001b[0m 241ms/step - accuracy: 1.0000 - loss: 4.9169e-04 - val_accuracy: 0.9270 - val_loss: 0.3101 - learning_rate: 1.0000e-04\n",
      "Epoch 20/25\n",
      "\u001b[1m72/72\u001b[0m \u001b[32m━━━━━━━━━━━━━━━━━━━━\u001b[0m\u001b[37m\u001b[0m \u001b[1m0s\u001b[0m 200ms/step - accuracy: 1.0000 - loss: 5.0992e-04\n",
      "Epoch 20: val_accuracy did not improve from 0.94663\n",
      "\u001b[1m72/72\u001b[0m \u001b[32m━━━━━━━━━━━━━━━━━━━━\u001b[0m\u001b[37m\u001b[0m \u001b[1m16s\u001b[0m 218ms/step - accuracy: 1.0000 - loss: 5.0941e-04 - val_accuracy: 0.9270 - val_loss: 0.3101 - learning_rate: 1.0000e-05\n",
      "Epoch 21/25\n",
      "\u001b[1m72/72\u001b[0m \u001b[32m━━━━━━━━━━━━━━━━━━━━\u001b[0m\u001b[37m\u001b[0m \u001b[1m0s\u001b[0m 199ms/step - accuracy: 1.0000 - loss: 4.7740e-04\n",
      "Epoch 21: val_accuracy did not improve from 0.94663\n",
      "\u001b[1m72/72\u001b[0m \u001b[32m━━━━━━━━━━━━━━━━━━━━\u001b[0m\u001b[37m\u001b[0m \u001b[1m16s\u001b[0m 220ms/step - accuracy: 1.0000 - loss: 4.7743e-04 - val_accuracy: 0.9270 - val_loss: 0.3102 - learning_rate: 1.0000e-05\n",
      "Epoch 22/25\n",
      "\u001b[1m72/72\u001b[0m \u001b[32m━━━━━━━━━━━━━━━━━━━━\u001b[0m\u001b[37m\u001b[0m \u001b[1m0s\u001b[0m 211ms/step - accuracy: 1.0000 - loss: 4.2080e-04\n",
      "Epoch 22: val_accuracy did not improve from 0.94663\n",
      "\u001b[1m72/72\u001b[0m \u001b[32m━━━━━━━━━━━━━━━━━━━━\u001b[0m\u001b[37m\u001b[0m \u001b[1m17s\u001b[0m 233ms/step - accuracy: 1.0000 - loss: 4.2072e-04 - val_accuracy: 0.9270 - val_loss: 0.3102 - learning_rate: 1.0000e-05\n",
      "Epoch 23/25\n",
      "\u001b[1m72/72\u001b[0m \u001b[32m━━━━━━━━━━━━━━━━━━━━\u001b[0m\u001b[37m\u001b[0m \u001b[1m0s\u001b[0m 212ms/step - accuracy: 1.0000 - loss: 6.1146e-04\n",
      "Epoch 23: val_accuracy did not improve from 0.94663\n",
      "\u001b[1m72/72\u001b[0m \u001b[32m━━━━━━━━━━━━━━━━━━━━\u001b[0m\u001b[37m\u001b[0m \u001b[1m17s\u001b[0m 234ms/step - accuracy: 1.0000 - loss: 6.1135e-04 - val_accuracy: 0.9270 - val_loss: 0.3102 - learning_rate: 1.0000e-05\n",
      "Epoch 24/25\n",
      "\u001b[1m72/72\u001b[0m \u001b[32m━━━━━━━━━━━━━━━━━━━━\u001b[0m\u001b[37m\u001b[0m \u001b[1m0s\u001b[0m 213ms/step - accuracy: 1.0000 - loss: 4.0161e-04\n",
      "Epoch 24: val_accuracy did not improve from 0.94663\n",
      "\u001b[1m72/72\u001b[0m \u001b[32m━━━━━━━━━━━━━━━━━━━━\u001b[0m\u001b[37m\u001b[0m \u001b[1m17s\u001b[0m 235ms/step - accuracy: 1.0000 - loss: 4.0173e-04 - val_accuracy: 0.9270 - val_loss: 0.3102 - learning_rate: 1.0000e-05\n",
      "Epoch 25/25\n",
      "\u001b[1m72/72\u001b[0m \u001b[32m━━━━━━━━━━━━━━━━━━━━\u001b[0m\u001b[37m\u001b[0m \u001b[1m0s\u001b[0m 206ms/step - accuracy: 1.0000 - loss: 4.8532e-04\n",
      "Epoch 25: val_accuracy did not improve from 0.94663\n",
      "\u001b[1m72/72\u001b[0m \u001b[32m━━━━━━━━━━━━━━━━━━━━\u001b[0m\u001b[37m\u001b[0m \u001b[1m16s\u001b[0m 224ms/step - accuracy: 1.0000 - loss: 4.8617e-04 - val_accuracy: 0.9270 - val_loss: 0.3102 - learning_rate: 1.0000e-06\n"
     ]
    }
   ],
   "source": [
    "history = model.fit(\n",
    "    X_train, y_train,\n",
    "    epochs=25,\n",
    "    batch_size=20,\n",
    "    callbacks= callbacks,\n",
    "    validation_split=0.2,\n",
    "    verbose=1\n",
    ")"
   ]
  },
  {
   "cell_type": "code",
   "execution_count": 60,
   "metadata": {
    "execution": {
     "iopub.execute_input": "2024-12-04T00:31:50.392534Z",
     "iopub.status.busy": "2024-12-04T00:31:50.392222Z",
     "iopub.status.idle": "2024-12-04T00:31:51.036493Z",
     "shell.execute_reply": "2024-12-04T00:31:51.035582Z",
     "shell.execute_reply.started": "2024-12-04T00:31:50.392505Z"
    },
    "trusted": true
   },
   "outputs": [
    {
     "name": "stdout",
     "output_type": "stream",
     "text": [
      "\u001b[1m14/14\u001b[0m \u001b[32m━━━━━━━━━━━━━━━━━━━━\u001b[0m\u001b[37m\u001b[0m \u001b[1m1s\u001b[0m 98ms/step - accuracy: 0.9246 - loss: 0.4291\n",
      "\n",
      "Test accuracy: 0.9281\n",
      "\u001b[1m14/14\u001b[0m \u001b[32m━━━━━━━━━━━━━━━━━━━━\u001b[0m\u001b[37m\u001b[0m \u001b[1m2s\u001b[0m 119ms/step\n",
      "\n",
      "Classification Report:\n",
      "              precision    recall  f1-score   support\n",
      "\n",
      "           0       0.89      0.90      0.90        84\n",
      "           1       0.95      0.95      0.95       100\n",
      "           2       0.99      0.90      0.94        91\n",
      "           3       0.87      0.95      0.91        64\n",
      "           4       0.93      0.93      0.93       106\n",
      "\n",
      "    accuracy                           0.93       445\n",
      "   macro avg       0.93      0.93      0.93       445\n",
      "weighted avg       0.93      0.93      0.93       445\n",
      "\n",
      "\n",
      "Confusion Matrix:\n",
      "[[76  1  0  2  5]\n",
      " [ 3 95  0  1  1]\n",
      " [ 1  1 82  5  2]\n",
      " [ 1  1  1 61  0]\n",
      " [ 4  2  0  1 99]]\n"
     ]
    }
   ],
   "source": [
    "test_loss, test_accuracy = model.evaluate(X_test, y_test, verbose=1)\n",
    "print(f\"\\nTest accuracy: {test_accuracy:.4f}\")\n",
    "\n",
    "y_pred = model.predict(X_test)\n",
    "y_pred_classes = np.argmax(y_pred, axis=1)\n",
    "\n",
    "print(\"\\nClassification Report:\")\n",
    "print(classification_report(y_test, y_pred_classes))\n",
    "\n",
    "print(\"\\nConfusion Matrix:\")\n",
    "print(confusion_matrix(y_test, y_pred_classes))"
   ]
  },
  {
   "cell_type": "code",
   "execution_count": 61,
   "metadata": {
    "execution": {
     "iopub.execute_input": "2024-12-04T00:31:51.037789Z",
     "iopub.status.busy": "2024-12-04T00:31:51.037516Z",
     "iopub.status.idle": "2024-12-04T00:31:51.332604Z",
     "shell.execute_reply": "2024-12-04T00:31:51.331749Z",
     "shell.execute_reply.started": "2024-12-04T00:31:51.037761Z"
    },
    "trusted": true
   },
   "outputs": [
    {
     "data": {
      "image/png": "[encoded data removed]",
      "text/plain": [
       "<Figure size 640x480 with 2 Axes>"
      ]
     },
     "metadata": {},
     "output_type": "display_data"
    }
   ],
   "source": [
    "cm = confusion_matrix(y_test, y_pred_classes)\n",
    "disp = ConfusionMatrixDisplay(confusion_matrix=cm)\n",
    "disp.plot(cmap=plt.cm.Blues)\n",
    "plt.title(\"Confusion Matrix\")\n",
    "plt.show()"
   ]
  }
 ],
 "metadata": {
  "kaggle": {
   "accelerator": "nvidiaTeslaT4",
   "dataSources": [
    {
     "datasetId": 4107678,
     "sourceId": 7121520,
     "sourceType": "datasetVersion"
    }
   ],
   "dockerImageVersionId": 30805,
   "isGpuEnabled": true,
   "isInternetEnabled": true,
   "language": "python",
   "sourceType": "notebook"
  },
  "kernelspec": {
   "display_name": "Python 3",
   "language": "python",
   "name": "python3"
  },
  "language_info": {
   "codemirror_mode": {
    "name": "ipython",
    "version": 3
   },
   "file_extension": ".py",
   "mimetype": "text/x-python",
   "name": "python",
   "nbconvert_exporter": "python",
   "pygments_lexer": "ipython3",
   "version": "3.11.9"
  }
 },
 "nbformat": 4,
 "nbformat_minor": 4
}
